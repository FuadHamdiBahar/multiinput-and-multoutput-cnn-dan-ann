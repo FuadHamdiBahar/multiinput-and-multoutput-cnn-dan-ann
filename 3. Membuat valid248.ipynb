{
 "cells": [
  {
   "cell_type": "code",
   "execution_count": 24,
   "id": "add05214",
   "metadata": {},
   "outputs": [],
   "source": [
    "import pandas as pd"
   ]
  },
  {
   "cell_type": "code",
   "execution_count": 25,
   "id": "da91c37f",
   "metadata": {},
   "outputs": [],
   "source": [
    "# DEFINISI VARIABEL UMUM\n",
    "RANDOM_STATE = 42\n",
    "\n",
    "# sementara hapus Brugada\n",
    "predictor_col =  ['AF','HR','HRclass','Regularity','Qpath','Qpathlocation', \n",
    "                  'STsegment', 'STTchanges','STTiskemia','STTnonspesific','STloc',\n",
    "                  'QTinterval', 'QTintervalcorrected', 'Twave', 'Twaveloc', 'Taxisdegree',\n",
    "                  'VES', 'AES', 'JES', 'Uwave']\n",
    "\n",
    "# sementara hapus RVH WPW AVBLOCK SABLOCK AFLUT SVT\n",
    "response_col = ['Sinus', 'Tachy', 'Brady', 'LVH', 'QRSfragmented', 'Lowvoltage', \n",
    "                'STEMI','BER', 'Taxis', 'Normal_ECG']"
   ]
  },
  {
   "cell_type": "code",
   "execution_count": 26,
   "id": "7d71278f",
   "metadata": {},
   "outputs": [],
   "source": [
    "df = pd.read_csv(\"EKGCroppedData/CSV_PING.csv\")\n",
    "df = df.drop(columns = ['Unnamed: 0','Unnamed: 0.1','use', 'ID', 'Gender', 'age_55'])"
   ]
  },
  {
   "cell_type": "code",
   "execution_count": 27,
   "id": "06c2b57a",
   "metadata": {},
   "outputs": [],
   "source": [
    "data = df.copy()"
   ]
  },
  {
   "cell_type": "code",
   "execution_count": 43,
   "id": "1256ed60",
   "metadata": {},
   "outputs": [
    {
     "name": "stdout",
     "output_type": "stream",
     "text": [
      "Sinus 3 1852\n",
      "Sinus 2 282\n",
      "Sinus 1 46\n",
      "Tachy 2 2134\n",
      "Tachy 1 46\n",
      "Brady 2 1898\n",
      "Brady 1 282\n",
      "LVH 0 2122\n",
      "LVH 1 58\n",
      "QRSfragmented 0 2090\n",
      "QRSfragmented 1 90\n",
      "Lowvoltage 0 2164\n",
      "Lowvoltage 1 16\n",
      "STEMI 2 2139\n",
      "STEMI 1 41\n",
      "BER 0 2170\n",
      "BER 1 10\n",
      "Taxis 0 2136\n",
      "Taxis 1 23\n",
      "Taxis 3 11\n",
      "Taxis 2 10\n",
      "Normal_ECG 0 1583\n",
      "Normal_ECG 1 597\n"
     ]
    }
   ],
   "source": [
    "valid_index = []\n",
    "\n",
    "for col in response_col:\n",
    "    for label in data[col].unique():\n",
    "        query = data[col][data[col] == label].index\n",
    "        \n",
    "#         if len(query) < 1500:\n",
    "#             valid_index.append(query.to_list())\n",
    "        print(col, label, len(query))"
   ]
  },
  {
   "cell_type": "code",
   "execution_count": 39,
   "id": "74c17c3a",
   "metadata": {},
   "outputs": [],
   "source": [
    "from itertools import chain\n",
    "import numpy as np\n",
    "\n",
    "valid_index = list(chain.from_iterable(valid_index))\n",
    "valid_index = np.unique(valid_index)\n",
    "# valid_index"
   ]
  },
  {
   "cell_type": "code",
   "execution_count": 40,
   "id": "1eaeb7aa",
   "metadata": {},
   "outputs": [],
   "source": [
    "valid_data = data.loc[valid_index, :].reset_index(drop=True)"
   ]
  },
  {
   "cell_type": "code",
   "execution_count": 42,
   "id": "9e9d5efd",
   "metadata": {},
   "outputs": [],
   "source": [
    "valid_data.to_csv('valid248.csv')"
   ]
  },
  {
   "cell_type": "code",
   "execution_count": null,
   "id": "e10a5a87",
   "metadata": {},
   "outputs": [],
   "source": []
  }
 ],
 "metadata": {
  "kernelspec": {
   "display_name": "Python 3 (ipykernel)",
   "language": "python",
   "name": "python3"
  },
  "language_info": {
   "codemirror_mode": {
    "name": "ipython",
    "version": 3
   },
   "file_extension": ".py",
   "mimetype": "text/x-python",
   "name": "python",
   "nbconvert_exporter": "python",
   "pygments_lexer": "ipython3",
   "version": "3.8.10"
  }
 },
 "nbformat": 4,
 "nbformat_minor": 5
}
