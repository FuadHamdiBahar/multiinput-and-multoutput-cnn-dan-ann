{
  "metadata": {
    "kernelspec": {
      "language": "python",
      "display_name": "Python 3",
      "name": "python3"
    },
    "language_info": {
      "name": "python",
      "version": "3.7.12",
      "mimetype": "text/x-python",
      "codemirror_mode": {
        "name": "ipython",
        "version": 3
      },
      "pygments_lexer": "ipython3",
      "nbconvert_exporter": "python",
      "file_extension": ".py"
    },
    "colab": {
      "provenance": [],
      "include_colab_link": true
    }
  },
  "nbformat_minor": 0,
  "nbformat": 4,
  "cells": [
    {
      "cell_type": "markdown",
      "metadata": {
        "id": "view-in-github",
        "colab_type": "text"
      },
      "source": [
        "<a href=\"https://colab.research.google.com/github/FuadHamdiBahar/multiinput-and-multoutput-cnn-dan-ann/blob/main/2_Membuat_valid218.ipynb\" target=\"_parent\"><img src=\"https://colab.research.google.com/assets/colab-badge.svg\" alt=\"Open In Colab\"/></a>"
      ]
    },
    {
      "cell_type": "code",
      "source": [
        "!git clone https://github.com/FuadHamdiBahar/EKGCroppedData.git"
      ],
      "metadata": {
        "_uuid": "8f2839f25d086af736a60e9eeb907d3b93b6e0e5",
        "_cell_guid": "b1076dfc-b9ad-4769-8c92-a6c4dae69d19",
        "execution": {
          "iopub.status.busy": "2022-08-21T14:33:12.879068Z",
          "iopub.execute_input": "2022-08-21T14:33:12.879602Z",
          "iopub.status.idle": "2022-08-21T14:33:37.410540Z",
          "shell.execute_reply.started": "2022-08-21T14:33:12.879538Z",
          "shell.execute_reply": "2022-08-21T14:33:37.408982Z"
        },
        "trusted": true,
        "id": "r6yOMdNc7R-w",
        "outputId": "2ff379e6-db7c-4bc9-fef2-de5a93661966"
      },
      "execution_count": null,
      "outputs": [
        {
          "name": "stdout",
          "text": "Cloning into 'EKGCroppedData'...\nremote: Enumerating objects: 28154, done.\u001b[K\nremote: Counting objects: 100% (2219/2219), done.\u001b[K\nremote: Compressing objects: 100% (2205/2205), done.\u001b[K\nremote: Total 28154 (delta 18), reused 2210 (delta 9), pack-reused 25935\u001b[K\nReceiving objects: 100% (28154/28154), 438.11 MiB | 32.04 MiB/s, done.\nResolving deltas: 100% (19/19), done.\nUpdating files: 100% (28347/28347), done.\n",
          "output_type": "stream"
        }
      ]
    },
    {
      "cell_type": "code",
      "source": [
        "import pandas as pd"
      ],
      "metadata": {
        "execution": {
          "iopub.status.busy": "2022-08-21T14:33:37.413095Z",
          "iopub.execute_input": "2022-08-21T14:33:37.413475Z",
          "iopub.status.idle": "2022-08-21T14:33:37.419504Z",
          "shell.execute_reply.started": "2022-08-21T14:33:37.413439Z",
          "shell.execute_reply": "2022-08-21T14:33:37.418255Z"
        },
        "trusted": true,
        "id": "dZcJsxpz7R-z"
      },
      "execution_count": null,
      "outputs": []
    },
    {
      "cell_type": "code",
      "source": [
        "CATEGORICAL_COLUMNS = ['AF', 'HRclass', 'Regularity', 'Qpath', 'Qpathlocation', 'STsegment',\n",
        "                       'STTchanges', 'STTiskemia', 'STTnonspesific', 'STloc', 'Twave', 'Twaveloc',\n",
        "                       'VES', 'AES', 'JES', 'Uwave']\n",
        "PREDICTOR_COLUMNS = ['ID','AF','HR','HRclass','Regularity','Qpath','Qpathlocation',\n",
        "                     'STsegment', 'STTchanges','STTiskemia','STTnonspesific','STloc',\n",
        "                     'QTinterval', 'QTintervalcorrected', 'Twave', 'Twaveloc', 'Taxisdegree',\n",
        "                     'VES', 'AES', 'JES', 'Uwave']"
      ],
      "metadata": {
        "execution": {
          "iopub.status.busy": "2022-08-21T14:33:37.420871Z",
          "iopub.execute_input": "2022-08-21T14:33:37.421314Z",
          "iopub.status.idle": "2022-08-21T14:33:37.432221Z",
          "shell.execute_reply.started": "2022-08-21T14:33:37.421272Z",
          "shell.execute_reply": "2022-08-21T14:33:37.431037Z"
        },
        "trusted": true,
        "id": "GISQSLD47R-0"
      },
      "execution_count": null,
      "outputs": []
    },
    {
      "cell_type": "code",
      "source": [
        "df = pd.read_csv('./EKGCroppedData/valid128.csv')\n",
        "df = df.drop(columns = ['Unnamed: 0'])\n",
        "df = df[PREDICTOR_COLUMNS]\n",
        "# df.info()"
      ],
      "metadata": {
        "execution": {
          "iopub.status.busy": "2022-08-21T14:33:37.434228Z",
          "iopub.execute_input": "2022-08-21T14:33:37.434572Z",
          "iopub.status.idle": "2022-08-21T14:33:37.471219Z",
          "shell.execute_reply.started": "2022-08-21T14:33:37.434542Z",
          "shell.execute_reply": "2022-08-21T14:33:37.470290Z"
        },
        "trusted": true,
        "id": "1KBatC1I7R-1"
      },
      "execution_count": null,
      "outputs": []
    },
    {
      "cell_type": "code",
      "source": [
        "for i in CATEGORICAL_COLUMNS:\n",
        "    print(i, set(df[i].to_list()), '\\t\\t\\t', len(set(df[i].to_list())))"
      ],
      "metadata": {
        "execution": {
          "iopub.status.busy": "2022-08-21T14:34:54.277663Z",
          "iopub.execute_input": "2022-08-21T14:34:54.278137Z",
          "iopub.status.idle": "2022-08-21T14:34:54.286310Z",
          "shell.execute_reply.started": "2022-08-21T14:34:54.278098Z",
          "shell.execute_reply": "2022-08-21T14:34:54.285012Z"
        },
        "trusted": true,
        "id": "0BYY9Y9d7R-1",
        "outputId": "5030e37b-ed4b-4682-dbcf-b2434633c64e"
      },
      "execution_count": null,
      "outputs": [
        {
          "name": "stdout",
          "text": "AF {0, 1} \t\t\t 2\nHRclass {0, 1, 2} \t\t\t 3\nRegularity {0, 1} \t\t\t 2\nQpath {0, 1} \t\t\t 2\nQpathlocation {0, 1, 2} \t\t\t 3\nSTsegment {0, 1, 2, 3} \t\t\t 4\nSTTchanges {0, 1, 2} \t\t\t 3\nSTTiskemia {1, 2} \t\t\t 2\nSTTnonspesific {1, 2} \t\t\t 2\nSTloc {0, 1, 2, 3, 4} \t\t\t 5\nTwave {0, 1, 2, 3} \t\t\t 4\nTwaveloc {0, 1, 2, 3, 4} \t\t\t 5\nVES {0, 1} \t\t\t 2\nAES {0, 1} \t\t\t 2\nJES {0, 1} \t\t\t 2\nUwave {0, 1} \t\t\t 2\n",
          "output_type": "stream"
        }
      ]
    },
    {
      "cell_type": "markdown",
      "source": [
        "def cek(dataframe):\n",
        "    for col in CATEGORICAL_COLUMNS:\n",
        "        print(dataframe[col].value_counts())"
      ],
      "metadata": {
        "execution": {
          "iopub.status.busy": "2022-08-21T09:26:19.878443Z",
          "iopub.execute_input": "2022-08-21T09:26:19.878902Z",
          "iopub.status.idle": "2022-08-21T09:26:19.884781Z",
          "shell.execute_reply.started": "2022-08-21T09:26:19.878855Z",
          "shell.execute_reply": "2022-08-21T09:26:19.883583Z"
        },
        "id": "Isa9JfU27R-2"
      }
    },
    {
      "cell_type": "code",
      "source": [
        "from imblearn.over_sampling import SMOTE, RandomOverSampler\n",
        "from imblearn.under_sampling import RandomUnderSampler\n",
        "\n",
        "\n",
        "s = SMOTE()\n",
        "ros = RandomOverSampler(sampling_strategy = {1:100, 4:100})\n",
        "df, y = ros.fit_resample(df, df['Twaveloc'])"
      ],
      "metadata": {
        "execution": {
          "iopub.status.busy": "2022-08-21T09:30:16.834539Z",
          "iopub.execute_input": "2022-08-21T09:30:16.835063Z",
          "iopub.status.idle": "2022-08-21T09:30:16.858286Z",
          "shell.execute_reply.started": "2022-08-21T09:30:16.835021Z",
          "shell.execute_reply": "2022-08-21T09:30:16.857111Z"
        },
        "trusted": true,
        "id": "1VSl2UwH7R-3"
      },
      "execution_count": null,
      "outputs": []
    },
    {
      "cell_type": "code",
      "source": [
        "cek(df)"
      ],
      "metadata": {
        "execution": {
          "iopub.status.busy": "2022-08-21T09:30:17.023703Z",
          "iopub.execute_input": "2022-08-21T09:30:17.024341Z",
          "iopub.status.idle": "2022-08-21T09:30:17.043889Z",
          "shell.execute_reply.started": "2022-08-21T09:30:17.024306Z",
          "shell.execute_reply": "2022-08-21T09:30:17.042766Z"
        },
        "trusted": true,
        "id": "Ptg7UeHb7R-3",
        "outputId": "0738e8f2-56dc-4fad-d234-92dab3efa6e8"
      },
      "execution_count": null,
      "outputs": [
        {
          "name": "stdout",
          "text": "0    1486\n1     151\nName: AF, dtype: int64\n0    1126\n1     356\n2     155\nName: HRclass, dtype: int64\n0    1210\n1     427\nName: Regularity, dtype: int64\n0    1246\n1     391\nName: Qpath, dtype: int64\n0    1246\n1     267\n2     124\nName: Qpathlocation, dtype: int64\n0    1185\n1     195\n2     137\n3     120\nName: STsegment, dtype: int64\n0    890\n1    628\n2    119\nName: STTchanges, dtype: int64\n2    1009\n1     628\nName: STTiskemia, dtype: int64\n2    1518\n1     119\nName: STTnonspesific, dtype: int64\n0    1058\n3     212\n2     147\n4     114\n1     106\nName: STloc, dtype: int64\n0    1077\n2     336\n1     124\n3     100\nName: Twave, dtype: int64\n0    1149\n2     164\n3     124\n1     100\n4     100\nName: Twaveloc, dtype: int64\n0    1519\n1     118\nName: VES, dtype: int64\n0    1442\n1     195\nName: AES, dtype: int64\n0    1537\n1     100\nName: JES, dtype: int64\n0    1424\n1     213\nName: Uwave, dtype: int64\n",
          "output_type": "stream"
        }
      ]
    },
    {
      "cell_type": "code",
      "source": [
        "for col in CATEGORICAL_COLUMNS:\n",
        "    for label in df[col].unique():\n",
        "        query = df[df[col] == label].index\n",
        "        if len(query) < 100:\n",
        "            print(col, label, len(query))"
      ],
      "metadata": {
        "execution": {
          "iopub.status.busy": "2022-08-21T09:30:20.513593Z",
          "iopub.execute_input": "2022-08-21T09:30:20.514238Z",
          "iopub.status.idle": "2022-08-21T09:30:20.545214Z",
          "shell.execute_reply.started": "2022-08-21T09:30:20.514195Z",
          "shell.execute_reply": "2022-08-21T09:30:20.543912Z"
        },
        "trusted": true,
        "id": "w0cJZt5o7R-4"
      },
      "execution_count": null,
      "outputs": []
    },
    {
      "cell_type": "code",
      "source": [
        "valid_index = []\n",
        "for col in CATEGORICAL_COLUMNS:\n",
        "    for label in df[col].unique():\n",
        "        query = df[col][df[col] == label].index\n",
        "        \n",
        "        if len(query) < 700:\n",
        "#             print(col, label, len(query))\n",
        "            valid_index.append(query.to_list())"
      ],
      "metadata": {
        "execution": {
          "iopub.status.busy": "2022-08-21T09:30:24.082911Z",
          "iopub.execute_input": "2022-08-21T09:30:24.083347Z",
          "iopub.status.idle": "2022-08-21T09:30:24.105626Z",
          "shell.execute_reply.started": "2022-08-21T09:30:24.083311Z",
          "shell.execute_reply": "2022-08-21T09:30:24.104538Z"
        },
        "trusted": true,
        "id": "B25u2xuc7R-4"
      },
      "execution_count": null,
      "outputs": []
    },
    {
      "cell_type": "code",
      "source": [
        "from itertools import chain\n",
        "import numpy as np\n",
        "\n",
        "valid_index = list(chain.from_iterable(valid_index))\n",
        "valid_index = np.unique(valid_index)\n",
        "# valid_index"
      ],
      "metadata": {
        "execution": {
          "iopub.status.busy": "2022-08-21T09:30:24.635679Z",
          "iopub.execute_input": "2022-08-21T09:30:24.636093Z",
          "iopub.status.idle": "2022-08-21T09:30:24.642878Z",
          "shell.execute_reply.started": "2022-08-21T09:30:24.636062Z",
          "shell.execute_reply": "2022-08-21T09:30:24.641412Z"
        },
        "trusted": true,
        "id": "RWIHtAYq7R-5"
      },
      "execution_count": null,
      "outputs": []
    },
    {
      "cell_type": "code",
      "source": [
        "valid_data = df.loc[valid_index, :].reset_index(drop=True)"
      ],
      "metadata": {
        "execution": {
          "iopub.status.busy": "2022-08-21T09:30:25.268894Z",
          "iopub.execute_input": "2022-08-21T09:30:25.269778Z",
          "iopub.status.idle": "2022-08-21T09:30:25.276034Z",
          "shell.execute_reply.started": "2022-08-21T09:30:25.269734Z",
          "shell.execute_reply": "2022-08-21T09:30:25.275122Z"
        },
        "trusted": true,
        "id": "4WlLIKLK7R-5"
      },
      "execution_count": null,
      "outputs": []
    },
    {
      "cell_type": "code",
      "source": [
        "valid_data.head()"
      ],
      "metadata": {
        "execution": {
          "iopub.status.busy": "2022-08-21T09:30:25.556407Z",
          "iopub.execute_input": "2022-08-21T09:30:25.557518Z",
          "iopub.status.idle": "2022-08-21T09:30:25.577409Z",
          "shell.execute_reply.started": "2022-08-21T09:30:25.557390Z",
          "shell.execute_reply": "2022-08-21T09:30:25.575913Z"
        },
        "trusted": true,
        "id": "Jr1tORvG7R-6",
        "outputId": "2810e069-5a86-4291-eb71-9e6a62f10fee"
      },
      "execution_count": null,
      "outputs": [
        {
          "execution_count": 165,
          "output_type": "execute_result",
          "data": {
            "text/plain": "          ID  AF   HR  HRclass  Regularity  Qpath  Qpathlocation  STsegment  \\\n0  ekg_10312   0   69        0           1      0              0          0   \n1  ekg_10317   0   55        1           0      0              0          1   \n2  ekg_10318   0  119        2           0      0              0          0   \n3  ekg_10424   0   52        1           0      0              0          0   \n4  ekg_10429   0   78        0           0      0              0          0   \n\n   STTchanges  STTiskemia  ...  STloc  QTinterval  QTintervalcorrected  Twave  \\\n0           0           2  ...      0         392                  420      0   \n1           1           1  ...      2         366                  435      0   \n2           0           2  ...      0         322                  452      0   \n3           0           2  ...      0         378                  351      0   \n4           0           2  ...      2         354                  403      0   \n\n   Twaveloc  Taxisdegree  VES  AES  JES  Uwave  \n0         0           59    0    0    0      0  \n1         0           37    0    0    0      0  \n2         0           42    0    0    0      0  \n3         0           31    0    0    0      0  \n4         0           33    0    0    0      0  \n\n[5 rows x 21 columns]",
            "text/html": "<div>\n<style scoped>\n    .dataframe tbody tr th:only-of-type {\n        vertical-align: middle;\n    }\n\n    .dataframe tbody tr th {\n        vertical-align: top;\n    }\n\n    .dataframe thead th {\n        text-align: right;\n    }\n</style>\n<table border=\"1\" class=\"dataframe\">\n  <thead>\n    <tr style=\"text-align: right;\">\n      <th></th>\n      <th>ID</th>\n      <th>AF</th>\n      <th>HR</th>\n      <th>HRclass</th>\n      <th>Regularity</th>\n      <th>Qpath</th>\n      <th>Qpathlocation</th>\n      <th>STsegment</th>\n      <th>STTchanges</th>\n      <th>STTiskemia</th>\n      <th>...</th>\n      <th>STloc</th>\n      <th>QTinterval</th>\n      <th>QTintervalcorrected</th>\n      <th>Twave</th>\n      <th>Twaveloc</th>\n      <th>Taxisdegree</th>\n      <th>VES</th>\n      <th>AES</th>\n      <th>JES</th>\n      <th>Uwave</th>\n    </tr>\n  </thead>\n  <tbody>\n    <tr>\n      <th>0</th>\n      <td>ekg_10312</td>\n      <td>0</td>\n      <td>69</td>\n      <td>0</td>\n      <td>1</td>\n      <td>0</td>\n      <td>0</td>\n      <td>0</td>\n      <td>0</td>\n      <td>2</td>\n      <td>...</td>\n      <td>0</td>\n      <td>392</td>\n      <td>420</td>\n      <td>0</td>\n      <td>0</td>\n      <td>59</td>\n      <td>0</td>\n      <td>0</td>\n      <td>0</td>\n      <td>0</td>\n    </tr>\n    <tr>\n      <th>1</th>\n      <td>ekg_10317</td>\n      <td>0</td>\n      <td>55</td>\n      <td>1</td>\n      <td>0</td>\n      <td>0</td>\n      <td>0</td>\n      <td>1</td>\n      <td>1</td>\n      <td>1</td>\n      <td>...</td>\n      <td>2</td>\n      <td>366</td>\n      <td>435</td>\n      <td>0</td>\n      <td>0</td>\n      <td>37</td>\n      <td>0</td>\n      <td>0</td>\n      <td>0</td>\n      <td>0</td>\n    </tr>\n    <tr>\n      <th>2</th>\n      <td>ekg_10318</td>\n      <td>0</td>\n      <td>119</td>\n      <td>2</td>\n      <td>0</td>\n      <td>0</td>\n      <td>0</td>\n      <td>0</td>\n      <td>0</td>\n      <td>2</td>\n      <td>...</td>\n      <td>0</td>\n      <td>322</td>\n      <td>452</td>\n      <td>0</td>\n      <td>0</td>\n      <td>42</td>\n      <td>0</td>\n      <td>0</td>\n      <td>0</td>\n      <td>0</td>\n    </tr>\n    <tr>\n      <th>3</th>\n      <td>ekg_10424</td>\n      <td>0</td>\n      <td>52</td>\n      <td>1</td>\n      <td>0</td>\n      <td>0</td>\n      <td>0</td>\n      <td>0</td>\n      <td>0</td>\n      <td>2</td>\n      <td>...</td>\n      <td>0</td>\n      <td>378</td>\n      <td>351</td>\n      <td>0</td>\n      <td>0</td>\n      <td>31</td>\n      <td>0</td>\n      <td>0</td>\n      <td>0</td>\n      <td>0</td>\n    </tr>\n    <tr>\n      <th>4</th>\n      <td>ekg_10429</td>\n      <td>0</td>\n      <td>78</td>\n      <td>0</td>\n      <td>0</td>\n      <td>0</td>\n      <td>0</td>\n      <td>0</td>\n      <td>0</td>\n      <td>2</td>\n      <td>...</td>\n      <td>2</td>\n      <td>354</td>\n      <td>403</td>\n      <td>0</td>\n      <td>0</td>\n      <td>33</td>\n      <td>0</td>\n      <td>0</td>\n      <td>0</td>\n      <td>0</td>\n    </tr>\n  </tbody>\n</table>\n<p>5 rows × 21 columns</p>\n</div>"
          },
          "metadata": {}
        }
      ]
    },
    {
      "cell_type": "code",
      "source": [
        "valid_data.info()"
      ],
      "metadata": {
        "execution": {
          "iopub.status.busy": "2022-08-21T09:30:25.981810Z",
          "iopub.execute_input": "2022-08-21T09:30:25.982250Z",
          "iopub.status.idle": "2022-08-21T09:30:26.002351Z",
          "shell.execute_reply.started": "2022-08-21T09:30:25.982212Z",
          "shell.execute_reply": "2022-08-21T09:30:26.001406Z"
        },
        "trusted": true,
        "id": "8t7ZXG_27R-6",
        "outputId": "53548063-cac1-4163-e696-6ed7e2aa8425"
      },
      "execution_count": null,
      "outputs": [
        {
          "name": "stdout",
          "text": "<class 'pandas.core.frame.DataFrame'>\nRangeIndex: 1637 entries, 0 to 1636\nData columns (total 21 columns):\n #   Column               Non-Null Count  Dtype \n---  ------               --------------  ----- \n 0   ID                   1637 non-null   object\n 1   AF                   1637 non-null   int64 \n 2   HR                   1637 non-null   int64 \n 3   HRclass              1637 non-null   int64 \n 4   Regularity           1637 non-null   int64 \n 5   Qpath                1637 non-null   int64 \n 6   Qpathlocation        1637 non-null   int64 \n 7   STsegment            1637 non-null   int64 \n 8   STTchanges           1637 non-null   int64 \n 9   STTiskemia           1637 non-null   int64 \n 10  STTnonspesific       1637 non-null   int64 \n 11  STloc                1637 non-null   int64 \n 12  QTinterval           1637 non-null   int64 \n 13  QTintervalcorrected  1637 non-null   int64 \n 14  Twave                1637 non-null   int64 \n 15  Twaveloc             1637 non-null   int64 \n 16  Taxisdegree          1637 non-null   int64 \n 17  VES                  1637 non-null   int64 \n 18  AES                  1637 non-null   int64 \n 19  JES                  1637 non-null   int64 \n 20  Uwave                1637 non-null   int64 \ndtypes: int64(20), object(1)\nmemory usage: 268.7+ KB\n",
          "output_type": "stream"
        }
      ]
    },
    {
      "cell_type": "code",
      "source": [
        "valid_data.to_csv('valid218.csv')"
      ],
      "metadata": {
        "execution": {
          "iopub.status.busy": "2022-08-21T09:31:03.399448Z",
          "iopub.execute_input": "2022-08-21T09:31:03.400320Z",
          "iopub.status.idle": "2022-08-21T09:31:03.420226Z",
          "shell.execute_reply.started": "2022-08-21T09:31:03.400275Z",
          "shell.execute_reply": "2022-08-21T09:31:03.419051Z"
        },
        "trusted": true,
        "id": "LwNW7E4B7R-7"
      },
      "execution_count": null,
      "outputs": []
    },
    {
      "cell_type": "code",
      "source": [],
      "metadata": {
        "id": "W_dySO2G7R-7"
      },
      "execution_count": null,
      "outputs": []
    }
  ]
}