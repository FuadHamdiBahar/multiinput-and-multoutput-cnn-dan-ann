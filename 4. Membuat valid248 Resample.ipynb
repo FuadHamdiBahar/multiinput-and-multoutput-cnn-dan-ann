{
 "cells": [
  {
   "cell_type": "code",
   "execution_count": 1,
   "id": "89cf3404",
   "metadata": {},
   "outputs": [],
   "source": [
    "import pandas as pd"
   ]
  },
  {
   "cell_type": "code",
   "execution_count": 4,
   "id": "6e13498c",
   "metadata": {},
   "outputs": [],
   "source": [
    "df = pd.read_csv('valid248.csv').drop(columns = 'Unnamed: 0')"
   ]
  },
  {
   "cell_type": "code",
   "execution_count": 35,
   "id": "bdb2e30a",
   "metadata": {},
   "outputs": [
    {
     "name": "stdout",
     "output_type": "stream",
     "text": [
      "<class 'pandas.core.frame.DataFrame'>\n",
      "RangeIndex: 620 entries, 0 to 619\n",
      "Data columns (total 30 columns):\n",
      " #   Column               Non-Null Count  Dtype\n",
      "---  ------               --------------  -----\n",
      " 0   AF                   620 non-null    int64\n",
      " 1   HR                   620 non-null    int64\n",
      " 2   HRclass              620 non-null    int64\n",
      " 3   Regularity           620 non-null    int64\n",
      " 4   Qpath                620 non-null    int64\n",
      " 5   Qpathlocation        620 non-null    int64\n",
      " 6   STsegment            620 non-null    int64\n",
      " 7   STTchanges           620 non-null    int64\n",
      " 8   STTiskemia           620 non-null    int64\n",
      " 9   STTnonspesific       620 non-null    int64\n",
      " 10  STloc                620 non-null    int64\n",
      " 11  QTinterval           620 non-null    int64\n",
      " 12  QTintervalcorrected  620 non-null    int64\n",
      " 13  Twave                620 non-null    int64\n",
      " 14  Twaveloc             620 non-null    int64\n",
      " 15  Taxisdegree          620 non-null    int64\n",
      " 16  VES                  620 non-null    int64\n",
      " 17  AES                  620 non-null    int64\n",
      " 18  JES                  620 non-null    int64\n",
      " 19  Uwave                620 non-null    int64\n",
      " 20  Sinus                620 non-null    int64\n",
      " 21  Tachy                620 non-null    int64\n",
      " 22  Brady                620 non-null    int64\n",
      " 23  LVH                  620 non-null    int64\n",
      " 24  QRSfragmented        620 non-null    int64\n",
      " 25  Lowvoltage           620 non-null    int64\n",
      " 26  STEMI                620 non-null    int64\n",
      " 27  BER                  620 non-null    int64\n",
      " 28  Taxis                620 non-null    int64\n",
      " 29  Normal_ECG           620 non-null    int64\n",
      "dtypes: int64(30)\n",
      "memory usage: 145.4 KB\n"
     ]
    }
   ],
   "source": [
    "df[all_col].info()"
   ]
  },
  {
   "cell_type": "code",
   "execution_count": 11,
   "id": "b9314f15",
   "metadata": {},
   "outputs": [],
   "source": [
    "# DEFINISI VARIABEL UMUM\n",
    "RANDOM_STATE = 42\n",
    "\n",
    "ALL_COL = [\n",
    "    'AF','HR','HRclass','Regularity','Qpath','Qpathlocation', 'STsegment', 'STTchanges','STTiskemia','STTnonspesific','STloc',\n",
    "    'QTinterval', 'QTintervalcorrected', 'Twave', 'Twaveloc', 'Taxisdegree', 'VES', 'AES', 'JES', 'Uwave', 'Sinus', 'Tachy', \n",
    "    'Brady', 'LVH', 'QRSfragmented', 'Lowvoltage', 'STEMI','BER', 'Taxis', 'Normal_ECG'\n",
    "]\n",
    "\n",
    "# sementara hapus Brugada\n",
    "PREDICTOR_COL =  ['AF','HR','HRclass','Regularity','Qpath','Qpathlocation', \n",
    "                  'STsegment', 'STTchanges','STTiskemia','STTnonspesific','STloc',\n",
    "                  'QTinterval', 'QTintervalcorrected', 'Twave', 'Twaveloc', 'Taxisdegree',\n",
    "                  'VES', 'AES', 'JES', 'Uwave']\n",
    "\n",
    "# sementara hapus RVH WPW AVBLOCK SABLOCK AFLUT SVT\n",
    "RESPONSE_COL = ['Sinus', 'Tachy', 'Brady', 'LVH', 'QRSfragmented', 'Lowvoltage', \n",
    "                'STEMI','BER', 'Taxis', 'Normal_ECG']"
   ]
  },
  {
   "cell_type": "code",
   "execution_count": 8,
   "id": "0cc9b3ce",
   "metadata": {},
   "outputs": [],
   "source": [
    "data = df.copy()\n",
    "data = data[all_col]"
   ]
  },
  {
   "cell_type": "code",
   "execution_count": 12,
   "id": "deccd29c",
   "metadata": {},
   "outputs": [
    {
     "name": "stdout",
     "output_type": "stream",
     "text": [
      "Sinus {1, 2, 3} \t\t\t 3\n",
      "Tachy {1, 2} \t\t\t 2\n",
      "Brady {1, 2} \t\t\t 2\n",
      "LVH {0, 1} \t\t\t 2\n",
      "QRSfragmented {0, 1} \t\t\t 2\n",
      "Lowvoltage {0, 1} \t\t\t 2\n",
      "STEMI {1, 2} \t\t\t 2\n",
      "BER {0, 1} \t\t\t 2\n",
      "Taxis {0, 1, 2, 3} \t\t\t 4\n",
      "Normal_ECG {0, 1} \t\t\t 2\n"
     ]
    }
   ],
   "source": [
    "for i in RESPONSE_COL:\n",
    "    print(i, set(data[i].to_list()), '\\t\\t\\t', len(set(data[i].to_list())))"
   ]
  },
  {
   "cell_type": "code",
   "execution_count": 31,
   "id": "0edb9196",
   "metadata": {},
   "outputs": [
    {
     "name": "stdout",
     "output_type": "stream",
     "text": [
      "3    613\n",
      "2    319\n",
      "1    254\n",
      "Name: Sinus, dtype: int64\n",
      "2    932\n",
      "1    254\n",
      "Name: Tachy, dtype: int64\n",
      "2    867\n",
      "1    319\n",
      "Name: Brady, dtype: int64\n",
      "0    970\n",
      "1    216\n",
      "Name: LVH, dtype: int64\n",
      "0    1008\n",
      "1     178\n",
      "Name: QRSfragmented, dtype: int64\n",
      "0    1055\n",
      "1     131\n",
      "Name: Lowvoltage, dtype: int64\n",
      "2    1066\n",
      "1     120\n",
      "Name: STEMI, dtype: int64\n",
      "0    1074\n",
      "1     112\n",
      "Name: BER, dtype: int64\n",
      "0    886\n",
      "1    100\n",
      "3    100\n",
      "2    100\n",
      "Name: Taxis, dtype: int64\n",
      "1    1041\n",
      "0     145\n",
      "Name: Normal_ECG, dtype: int64\n"
     ]
    }
   ],
   "source": [
    "for col in RESPONSE_COL:\n",
    "    print(data[col].value_counts())"
   ]
  },
  {
   "cell_type": "code",
   "execution_count": 30,
   "id": "ce4bbd67",
   "metadata": {},
   "outputs": [],
   "source": [
    "from imblearn.over_sampling import SMOTE, RandomOverSampler\n",
    "from imblearn.under_sampling import RandomUnderSampler\n",
    "\n",
    "s = SMOTE()\n",
    "ros = RandomOverSampler(sampling_strategy = {1:100, 2:100, 3:100})\n",
    "data, y = ros.fit_resample(data, data['Taxis'])"
   ]
  },
  {
   "cell_type": "code",
   "execution_count": 33,
   "id": "fa90e327",
   "metadata": {},
   "outputs": [],
   "source": [
    "data.to_csv('valid248resample.csv')"
   ]
  },
  {
   "cell_type": "code",
   "execution_count": 34,
   "id": "f9df29c8",
   "metadata": {},
   "outputs": [
    {
     "name": "stdout",
     "output_type": "stream",
     "text": [
      "<class 'pandas.core.frame.DataFrame'>\n",
      "RangeIndex: 1186 entries, 0 to 1185\n",
      "Data columns (total 30 columns):\n",
      " #   Column               Non-Null Count  Dtype\n",
      "---  ------               --------------  -----\n",
      " 0   AF                   1186 non-null   int64\n",
      " 1   HR                   1186 non-null   int64\n",
      " 2   HRclass              1186 non-null   int64\n",
      " 3   Regularity           1186 non-null   int64\n",
      " 4   Qpath                1186 non-null   int64\n",
      " 5   Qpathlocation        1186 non-null   int64\n",
      " 6   STsegment            1186 non-null   int64\n",
      " 7   STTchanges           1186 non-null   int64\n",
      " 8   STTiskemia           1186 non-null   int64\n",
      " 9   STTnonspesific       1186 non-null   int64\n",
      " 10  STloc                1186 non-null   int64\n",
      " 11  QTinterval           1186 non-null   int64\n",
      " 12  QTintervalcorrected  1186 non-null   int64\n",
      " 13  Twave                1186 non-null   int64\n",
      " 14  Twaveloc             1186 non-null   int64\n",
      " 15  Taxisdegree          1186 non-null   int64\n",
      " 16  VES                  1186 non-null   int64\n",
      " 17  AES                  1186 non-null   int64\n",
      " 18  JES                  1186 non-null   int64\n",
      " 19  Uwave                1186 non-null   int64\n",
      " 20  Sinus                1186 non-null   int64\n",
      " 21  Tachy                1186 non-null   int64\n",
      " 22  Brady                1186 non-null   int64\n",
      " 23  LVH                  1186 non-null   int64\n",
      " 24  QRSfragmented        1186 non-null   int64\n",
      " 25  Lowvoltage           1186 non-null   int64\n",
      " 26  STEMI                1186 non-null   int64\n",
      " 27  BER                  1186 non-null   int64\n",
      " 28  Taxis                1186 non-null   int64\n",
      " 29  Normal_ECG           1186 non-null   int64\n",
      "dtypes: int64(30)\n",
      "memory usage: 278.1 KB\n"
     ]
    }
   ],
   "source": [
    "data.info()"
   ]
  },
  {
   "cell_type": "code",
   "execution_count": null,
   "id": "01ed3f36",
   "metadata": {},
   "outputs": [],
   "source": []
  }
 ],
 "metadata": {
  "kernelspec": {
   "display_name": "Python 3 (ipykernel)",
   "language": "python",
   "name": "python3"
  },
  "language_info": {
   "codemirror_mode": {
    "name": "ipython",
    "version": 3
   },
   "file_extension": ".py",
   "mimetype": "text/x-python",
   "name": "python",
   "nbconvert_exporter": "python",
   "pygments_lexer": "ipython3",
   "version": "3.8.10"
  }
 },
 "nbformat": 4,
 "nbformat_minor": 5
}
