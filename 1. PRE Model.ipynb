{
 "cells": [
  {
   "cell_type": "markdown",
   "metadata": {},
   "source": [
    "Di dalam program ini akan dilakukan proses sinkron dari pdf dan juga csv hingga data gambar terbagi menjadi 12 gambar putih yang sudah di ekstrak fiturnya"
   ]
  },
  {
   "cell_type": "code",
   "execution_count": 1,
   "metadata": {},
   "outputs": [],
   "source": [
    "import numpy as np\n",
    "import pandas as pd\n",
    "from os import listdir\n",
    "from tqdm import tqdm\n",
    "import cv2\n",
    "from PIL import Image"
   ]
  },
  {
   "cell_type": "markdown",
   "metadata": {},
   "source": [
    "SYNCHRONIZATION"
   ]
  },
  {
   "cell_type": "code",
   "execution_count": 8,
   "metadata": {},
   "outputs": [
    {
     "data": {
      "text/plain": [
       "10060"
      ]
     },
     "execution_count": 8,
     "metadata": {},
     "output_type": "execute_result"
    }
   ],
   "source": [
    "CSV_PATH = \"E:/7. SEMESTER 7/Bismillah Skripsi/Dataset/CSV Data/ECG_10001_Telemedicine_Analysed.csv\"\n",
    "PDF_PATH = \"E:/7. SEMESTER 7/Bismillah Skripsi/Dataset/All Data\"\n",
    "PDF_FILES = listdir(PDF_PATH)\n",
    "PDF_FILES.__len__()"
   ]
  },
  {
   "cell_type": "code",
   "execution_count": 28,
   "metadata": {},
   "outputs": [],
   "source": [
    "df = pd.read_csv(CSV_PATH)\n",
    "df = df.drop_duplicates(subset=['ID'], keep='first', ignore_index=True)\n",
    "ID = df['ID']"
   ]
  },
  {
   "cell_type": "code",
   "execution_count": 47,
   "metadata": {},
   "outputs": [],
   "source": [
    "# Cek Not Avalailable Data\n",
    "not_available_pdf_data = []\n",
    "\n",
    "for i in ID:\n",
    "    if i+'.pdf' not in PDF_FILES:\n",
    "        not_available_pdf_data.append(i)\n",
    "        \n",
    "\n",
    "# Drop not Availabel Data\n",
    "for i in not_available_pdf_data:\n",
    "    indexData = df[df['ID'] == i].index\n",
    "    df = df.drop(index=indexData)\n",
    "    \n",
    "# Reset Index\n",
    "df = df.reset_index(drop=True)\n",
    "\n",
    "df.to_csv('E:/7. SEMESTER 7/Bismillah Skripsi/__BISMILLAH FIX__/CSV FIX/data_bersih.csv')"
   ]
  },
  {
   "cell_type": "markdown",
   "metadata": {},
   "source": [
    "COPYING DATA PDF 3604\n"
   ]
  },
  {
   "cell_type": "code",
   "execution_count": 2,
   "metadata": {},
   "outputs": [],
   "source": [
    "import shutil as s"
   ]
  },
  {
   "cell_type": "code",
   "execution_count": 53,
   "metadata": {},
   "outputs": [],
   "source": [
    "CSV_FIX_PATH = 'E:/7. SEMESTER 7/Bismillah Skripsi/__BISMILLAH FIX__/CSV FIX/data_bersih.csv'\n",
    "ORIGINAL = 'E:/7. SEMESTER 7/Bismillah Skripsi/Dataset/All Data/'\n",
    "TARGET = 'E:/7. SEMESTER 7/Bismillah Skripsi/__BISMILLAH FIX__/ALL_PDF_FIX/'"
   ]
  },
  {
   "cell_type": "code",
   "execution_count": 50,
   "metadata": {},
   "outputs": [],
   "source": [
    "df_fix = pd.read_csv(CSV_FIX_PATH)"
   ]
  },
  {
   "cell_type": "code",
   "execution_count": 55,
   "metadata": {},
   "outputs": [
    {
     "data": {
      "text/plain": [
       "0         ekg_100\n",
       "1       ekg_10281\n",
       "2       ekg_10282\n",
       "3       ekg_10283\n",
       "4        ekg_1029\n",
       "          ...    \n",
       "3599     ekg_9221\n",
       "3600     ekg_9222\n",
       "3601     ekg_9224\n",
       "3602     ekg_9352\n",
       "3603     ekg_9356\n",
       "Name: ID, Length: 3604, dtype: object"
      ]
     },
     "execution_count": 55,
     "metadata": {},
     "output_type": "execute_result"
    }
   ],
   "source": [
    "ID = df_fix['ID']"
   ]
  },
  {
   "cell_type": "code",
   "execution_count": 57,
   "metadata": {},
   "outputs": [
    {
     "name": "stderr",
     "output_type": "stream",
     "text": [
      "100%|██████████| 3604/3604 [01:56<00:00, 30.81it/s]\n"
     ]
    }
   ],
   "source": [
    "for i in tqdm(ID):\n",
    "    s.copy(ORIGINAL + i + '.pdf', TARGET + i + '.pdf')"
   ]
  },
  {
   "cell_type": "markdown",
   "metadata": {},
   "source": [
    "CONVERT PDF TO PJG"
   ]
  },
  {
   "cell_type": "code",
   "execution_count": 4,
   "metadata": {},
   "outputs": [],
   "source": [
    "from pdf2image import convert_from_path"
   ]
  },
  {
   "cell_type": "code",
   "execution_count": 65,
   "metadata": {},
   "outputs": [
    {
     "name": "stderr",
     "output_type": "stream",
     "text": [
      "100%|██████████| 3604/3604 [45:40<00:00,  1.32it/s]  \n"
     ]
    }
   ],
   "source": [
    "PDF_FILES = 'E:/7. SEMESTER 7/Bismillah Skripsi/__BISMILLAH FIX__/ALL_PDF_FIX/'\n",
    "RESULT_DIR = 'E:/7. SEMESTER 7/Bismillah Skripsi/__BISMILLAH FIX__/ALL_IMG_FIX/'\n",
    "FILE = listdir(PDF_FILES)\n",
    "\n",
    "for f in tqdm(FILE):\n",
    "    pdf_file = PDF_FILES + f\n",
    "\n",
    "    pages = convert_from_path(pdf_file, poppler_path='C:/Program Files/poppler-0.68.0/bin')\n",
    "\n",
    "    img_file = f.replace(\".pdf\", \"\")\n",
    "    \n",
    "    for page in pages[:1]:\n",
    "        jpeg_file = RESULT_DIR + img_file + \".jpeg\"\n",
    "        page.save(jpeg_file, 'JPEG')"
   ]
  },
  {
   "cell_type": "markdown",
   "metadata": {},
   "source": [
    "PREPARE PING CSV"
   ]
  },
  {
   "cell_type": "code",
   "execution_count": 70,
   "metadata": {},
   "outputs": [],
   "source": [
    "df = pd.read_csv('E:/7. SEMESTER 7/Bismillah Skripsi/__BISMILLAH FIX__/CSV FIX/data_bersih.csv')\n",
    "not_available_jpeg_data = listdir('E:/7. SEMESTER 7/Bismillah Skripsi/Dataset/Ping Putih Data/Putih/')\n",
    "\n",
    "not_available_jpeg_data = [i[:-5] for i in not_available_jpeg_data]\n",
    "\n",
    "# # Drop not Availabel Data\n",
    "for i in not_available_jpeg_data:\n",
    "    indexData = df[df['ID'] == i].index\n",
    "    df = df.drop(index=indexData)\n",
    "    \n",
    "# # Reset Index\n",
    "df = df.reset_index(drop=True)\n",
    "\n",
    "df.to_csv('E:/7. SEMESTER 7/Bismillah Skripsi/__BISMILLAH FIX__/CSV FIX/CSV_PING.csv')"
   ]
  },
  {
   "cell_type": "markdown",
   "metadata": {},
   "source": [
    "CROPING PING"
   ]
  },
  {
   "cell_type": "code",
   "execution_count": 4,
   "metadata": {},
   "outputs": [],
   "source": [
    "PING_IMG_PATH = 'E:/7. SEMESTER 7/Bismillah Skripsi/__BISMILLAH FIX__/ALL_PING_IMG/'\n",
    "CROPPED_PING_IMG = 'E:/7. SEMESTER 7/Bismillah Skripsi/__BISMILLAH FIX__/CROPPED_PING_IMG/'\n",
    "ping_img_file = listdir(PING_IMG_PATH)"
   ]
  },
  {
   "cell_type": "code",
   "execution_count": 5,
   "metadata": {},
   "outputs": [
    {
     "name": "stderr",
     "output_type": "stream",
     "text": [
      "100%|██████████| 2180/2180 [02:10<00:00, 16.70it/s]\n"
     ]
    }
   ],
   "source": [
    "for i in tqdm(ping_img_file):\n",
    "    im = Image.open(PING_IMG_PATH + i)\n",
    "    \n",
    "    left = 250\n",
    "    top = 572\n",
    "    right = 2216\n",
    "    bottom = 1514\n",
    "\n",
    "    im1 = im.crop((left, top, right, bottom))\n",
    "    im1.save(CROPPED_PING_IMG + i)"
   ]
  },
  {
   "cell_type": "markdown",
   "metadata": {},
   "source": [
    "AMPLITUDE IMAGE ONLY"
   ]
  },
  {
   "cell_type": "code",
   "execution_count": 5,
   "metadata": {},
   "outputs": [],
   "source": [
    "import cv2"
   ]
  },
  {
   "cell_type": "code",
   "execution_count": 5,
   "metadata": {},
   "outputs": [],
   "source": [
    "IMG_PATH = 'E:/7. SEMESTER 7/Bismillah Skripsi/__BISMILLAH FIX__/CROPPED_PING_IMG/'\n",
    "AMP_PATH = 'E:/7. SEMESTER 7/Bismillah Skripsi/__BISMILLAH FIX__/AMPLITUDE_IMG_FIX/'\n",
    "img_files = listdir(IMG_PATH)"
   ]
  },
  {
   "cell_type": "code",
   "execution_count": 6,
   "metadata": {},
   "outputs": [],
   "source": [
    "def denoising(img):\n",
    "    for i in range(img.shape[0]):\n",
    "        for j in range(img.shape[1]):\n",
    "            if img[i][j] >= 100:\n",
    "                img[i][j] = 255\n",
    "            else:\n",
    "                img[i][j] = 0"
   ]
  },
  {
   "cell_type": "code",
   "execution_count": 7,
   "metadata": {},
   "outputs": [
    {
     "name": "stderr",
     "output_type": "stream",
     "text": [
      "100%|██████████| 2180/2180 [2:21:20<00:00,  3.89s/it]  \n"
     ]
    }
   ],
   "source": [
    "for i in tqdm(img_files):\n",
    "    f = IMG_PATH + i\n",
    "    img = cv2.imread(f, 0)\n",
    "    denoising(img)\n",
    "    cv2.imwrite(AMP_PATH + i, img)"
   ]
  },
  {
   "cell_type": "markdown",
   "metadata": {},
   "source": [
    "12 Data Convert"
   ]
  },
  {
   "cell_type": "code",
   "execution_count": 9,
   "metadata": {},
   "outputs": [],
   "source": [
    "AMP_PATH = 'E:/7. SEMESTER 7/Bismillah Skripsi/__BISMILLAH FIX__/AMPLITUDE_IMG_FIX/'\n",
    "CROPPED_12_PATH = 'E:/7. SEMESTER 7/Bismillah Skripsi/__BISMILLAH FIX__/CROPPED_12_PING_IMG/'\n",
    "CROPPED_12_FILE = listdir(AMP_PATH)"
   ]
  },
  {
   "cell_type": "code",
   "execution_count": 6,
   "metadata": {},
   "outputs": [],
   "source": [
    "from PIL import Image"
   ]
  },
  {
   "cell_type": "code",
   "execution_count": 13,
   "metadata": {},
   "outputs": [],
   "source": [
    "yu = Image.open('E:/7. SEMESTER 7/Bismillah Skripsi/__BISMILLAH FIX__/AMPLITUDE_IMG_FIX/ekg_100.jpeg')"
   ]
  },
  {
   "cell_type": "code",
   "execution_count": 17,
   "metadata": {},
   "outputs": [
    {
     "data": {
      "text/plain": [
       "(1966, 942)"
      ]
     },
     "execution_count": 17,
     "metadata": {},
     "output_type": "execute_result"
    }
   ],
   "source": [
    "yu.size"
   ]
  },
  {
   "cell_type": "code",
   "execution_count": 25,
   "metadata": {},
   "outputs": [],
   "source": [
    "point = [\n",
    "    (0, 0, 489, 200),\n",
    "    (0, 200, 489, 475),\n",
    "    (0, 475, 489, 713),\n",
    "    (491, 0, 982, 200),\n",
    "    (491, 237, 982, 475),\n",
    "    (491, 475, 982, 713),\n",
    "    (983, 0, 1474, 200),\n",
    "    (983, 200, 1474, 475),\n",
    "    (983, 475, 1474, 713),\n",
    "    (1475, 1, 1966, 200),\n",
    "    (1475, 238, 1966, 475),\n",
    "    (1475, 475, 1966, 713)\n",
    "]"
   ]
  },
  {
   "cell_type": "code",
   "execution_count": 27,
   "metadata": {},
   "outputs": [
    {
     "name": "stderr",
     "output_type": "stream",
     "text": [
      "100%|██████████| 2180/2180 [02:44<00:00, 13.22it/s]\n"
     ]
    }
   ],
   "source": [
    "for i in tqdm(CROPPED_12_FILE):\n",
    "    \n",
    "    im = Image.open(AMP_PATH + i)\n",
    "    width, height = im.size\n",
    "\n",
    "    im0 = im.crop(point[0])\n",
    "    im1 = im.crop(point[1])\n",
    "    im2 = im.crop(point[2])\n",
    "    im3 = im.crop(point[3])\n",
    "    im4 = im.crop(point[4])\n",
    "    im5 = im.crop(point[5])\n",
    "    im6 = im.crop(point[6])\n",
    "    im7 = im.crop(point[7])\n",
    "    im8 = im.crop(point[8])\n",
    "    im9 = im.crop(point[9])\n",
    "    im10 = im.crop(point[10])\n",
    "    im11 = im.crop(point[11])\n",
    "\n",
    "    im0.save(CROPPED_12_PATH + 'I/' + i)\n",
    "    im1.save(CROPPED_12_PATH + 'II/' + i)\n",
    "    im2.save(CROPPED_12_PATH + 'III/' + i)\n",
    "    im3.save(CROPPED_12_PATH + 'aVR/' + i)\n",
    "    im4.save(CROPPED_12_PATH + 'aVL/' + i)\n",
    "    im5.save(CROPPED_12_PATH + 'aVF/' + i)\n",
    "    im6.save(CROPPED_12_PATH + 'V1/' + i)\n",
    "    im7.save(CROPPED_12_PATH + 'V2/' + i)\n",
    "    im8.save(CROPPED_12_PATH + 'V3/' + i)\n",
    "    im9.save(CROPPED_12_PATH + 'V4/' + i)\n",
    "    im10.save(CROPPED_12_PATH + 'V5/' + i)\n",
    "    im11.save(CROPPED_12_PATH + 'V6/' + i)"
   ]
  }
 ],
 "metadata": {
  "kernelspec": {
   "display_name": "Python 3.8.6 64-bit",
   "language": "python",
   "name": "python3"
  },
  "language_info": {
   "codemirror_mode": {
    "name": "ipython",
    "version": 3
   },
   "file_extension": ".py",
   "mimetype": "text/x-python",
   "name": "python",
   "nbconvert_exporter": "python",
   "pygments_lexer": "ipython3",
   "version": "3.8.6"
  },
  "orig_nbformat": 4,
  "vscode": {
   "interpreter": {
    "hash": "c9b51faa7ef95649ed614021d8322a65013b1c48dcca29ccbc520c64916cbd4a"
   }
  }
 },
 "nbformat": 4,
 "nbformat_minor": 2
}
